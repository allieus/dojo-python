{
 "cells": [
  {
   "cell_type": "markdown",
   "metadata": {},
   "source": [
    "## 파이썬 데이터 타입\n",
    "\n",
    " * 숫자형\n",
    "     * 파이썬3 기준 : 정수형(int) 과 실수형 (float)\n",
    "     * 파이썬2 기준 : 정수형(int, long) 과 실수형 (float, double)\n",
    " * 불린형 (Boolean) : True/False\n",
    " * 문자열\n",
    "     * 파이썬3 기준 : str, bytes\n",
    "     * 파이썬2 기준 : unicode, str\n",
    "\n",
    "## 파이썬 기본 자료구조\n",
    "\n",
    " * 리스트 (list) : 순서를 보장하며, 수정이 가능\n",
    " * 튜플 (tuple) : 순서를 보장하며, 수정이 불가\n",
    " * 집합 (set) : 순서를 보장하지 않으며, 중복을 자동 제거\n",
    " * 사전 (dict) : 순서를 보장하지 않으며, Key/Value 를 저장"
   ]
  },
  {
   "cell_type": "code",
   "execution_count": 4,
   "metadata": {
    "collapsed": true
   },
   "outputs": [],
   "source": [
    "words = [\"w1\", \"w2\", \"w3\", \"w4\", \"w5\", \"w1\", \"w2\"] # list"
   ]
  },
  {
   "cell_type": "code",
   "execution_count": 3,
   "metadata": {
    "collapsed": false
   },
   "outputs": [
    {
     "data": {
      "text/plain": [
       "['w1', 'w2', 'w3', 'w4', 'w5', 'w1', 'w2']"
      ]
     },
     "execution_count": 3,
     "metadata": {},
     "output_type": "execute_result"
    }
   ],
   "source": [
    "words"
   ]
  },
  {
   "cell_type": "code",
   "execution_count": 5,
   "metadata": {
    "collapsed": false
   },
   "outputs": [
    {
     "data": {
      "text/plain": [
       "{'w1', 'w2', 'w3', 'w4', 'w5'}"
      ]
     },
     "execution_count": 5,
     "metadata": {},
     "output_type": "execute_result"
    }
   ],
   "source": [
    "set(words)  # 집합 타입의 변환"
   ]
  },
  {
   "cell_type": "code",
   "execution_count": 6,
   "metadata": {
    "collapsed": false
   },
   "outputs": [
    {
     "data": {
      "text/plain": [
       "(7, 5)"
      ]
     },
     "execution_count": 6,
     "metadata": {},
     "output_type": "execute_result"
    }
   ],
   "source": [
    "len(words), len(set(words))"
   ]
  },
  {
   "cell_type": "code",
   "execution_count": 7,
   "metadata": {
    "collapsed": true
   },
   "outputs": [],
   "source": [
    "def lexical_diversity(text):\n",
    "    return len(text) / len(set(text))"
   ]
  },
  {
   "cell_type": "code",
   "execution_count": 9,
   "metadata": {
    "collapsed": false
   },
   "outputs": [
    {
     "data": {
      "text/plain": [
       "{' ', 'd', 'e', 'h', 'l', 'o', 'r', 'w'}"
      ]
     },
     "execution_count": 9,
     "metadata": {},
     "output_type": "execute_result"
    }
   ],
   "source": [
    "mytext = \"hello world\"\n",
    "set(mytext)"
   ]
  },
  {
   "cell_type": "code",
   "execution_count": 10,
   "metadata": {
    "collapsed": false
   },
   "outputs": [
    {
     "data": {
      "text/plain": [
       "1.375"
      ]
     },
     "execution_count": 10,
     "metadata": {},
     "output_type": "execute_result"
    }
   ],
   "source": [
    "lexical_diversity('hello world')"
   ]
  },
  {
   "cell_type": "code",
   "execution_count": 12,
   "metadata": {
    "collapsed": true
   },
   "outputs": [],
   "source": [
    "# 파이썬2 에서는 정수끼리 나누면 정수가 되고, 3 에서는 실수형 (float) 이 됩니다.\n",
    "# python2\n",
    "# 10 / 3   # 3 (int)\n",
    "# python3\n",
    "# 10 / 3  # 3.333... (float)"
   ]
  },
  {
   "cell_type": "code",
   "execution_count": null,
   "metadata": {
    "collapsed": true
   },
   "outputs": [],
   "source": []
  },
  {
   "cell_type": "code",
   "execution_count": 18,
   "metadata": {
    "collapsed": true
   },
   "outputs": [],
   "source": [
    "text7 = \"hello hello hello oahi hel\""
   ]
  },
  {
   "cell_type": "code",
   "execution_count": 19,
   "metadata": {
    "collapsed": false
   },
   "outputs": [
    {
     "data": {
      "text/plain": [
       "4"
      ]
     },
     "execution_count": 19,
     "metadata": {},
     "output_type": "execute_result"
    }
   ],
   "source": [
    "text7.count(\"hel\")"
   ]
  },
  {
   "cell_type": "code",
   "execution_count": 20,
   "metadata": {
    "collapsed": false
   },
   "outputs": [
    {
     "data": {
      "text/plain": [
       "3"
      ]
     },
     "execution_count": 20,
     "metadata": {},
     "output_type": "execute_result"
    }
   ],
   "source": [
    "text7.count(\"hello\")"
   ]
  },
  {
   "cell_type": "markdown",
   "metadata": {},
   "source": [
    "## Comprehension\n",
    "\n",
    "### List Comprehension"
   ]
  },
  {
   "cell_type": "code",
   "execution_count": 22,
   "metadata": {
    "collapsed": false
   },
   "outputs": [
    {
     "name": "stdout",
     "output_type": "stream",
     "text": [
      "[0, 4, 16, 36, 64]\n"
     ]
    }
   ],
   "source": [
    "mylist = []\n",
    "for i in range(10):\n",
    "    if i % 2 == 0:\n",
    "        mylist.append(i**2)\n",
    "print(mylist)"
   ]
  },
  {
   "cell_type": "code",
   "execution_count": 45,
   "metadata": {
    "collapsed": false
   },
   "outputs": [
    {
     "data": {
      "text/plain": [
       "[0, 4, 16, 36, 64]"
      ]
     },
     "execution_count": 45,
     "metadata": {},
     "output_type": "execute_result"
    }
   ],
   "source": [
    "[i**2 for i in range(10) if i % 2 == 0]  # list comprehension 문법"
   ]
  },
  {
   "cell_type": "code",
   "execution_count": 46,
   "metadata": {
    "collapsed": false
   },
   "outputs": [
    {
     "data": {
      "text/plain": [
       "[0, 1, 2, 3, 4, 5, 6, 7, 8, 9]"
      ]
     },
     "execution_count": 46,
     "metadata": {},
     "output_type": "execute_result"
    }
   ],
   "source": [
    "[i for i in range(10)]"
   ]
  },
  {
   "cell_type": "code",
   "execution_count": 47,
   "metadata": {
    "collapsed": false
   },
   "outputs": [
    {
     "data": {
      "text/plain": [
       "['H', 'E', 'L', 'L', 'O', ' ', 'W', 'O', 'R', 'L', 'D']"
      ]
     },
     "execution_count": 47,
     "metadata": {},
     "output_type": "execute_result"
    }
   ],
   "source": [
    "[ch.upper() for ch in \"hello world\"]"
   ]
  },
  {
   "cell_type": "code",
   "execution_count": 48,
   "metadata": {
    "collapsed": false
   },
   "outputs": [
    {
     "data": {
      "text/plain": [
       "['hello', 'world', 'python', 'django']"
      ]
     },
     "execution_count": 48,
     "metadata": {},
     "output_type": "execute_result"
    }
   ],
   "source": [
    "\"hello world python django\".split()"
   ]
  },
  {
   "cell_type": "code",
   "execution_count": 49,
   "metadata": {
    "collapsed": false
   },
   "outputs": [
    {
     "data": {
      "text/plain": [
       "['Hello', 'World', 'Python', 'Django']"
      ]
     },
     "execution_count": 49,
     "metadata": {},
     "output_type": "execute_result"
    }
   ],
   "source": [
    "[word.title() for word in \"hello world python django\".split()]"
   ]
  },
  {
   "cell_type": "code",
   "execution_count": 26,
   "metadata": {
    "collapsed": false
   },
   "outputs": [
    {
     "data": {
      "text/plain": [
       "[0,\n",
       " 2,\n",
       " 4,\n",
       " 6,\n",
       " 8,\n",
       " 0,\n",
       " 2,\n",
       " 4,\n",
       " 6,\n",
       " 8,\n",
       " 0,\n",
       " 2,\n",
       " 4,\n",
       " 6,\n",
       " 8,\n",
       " 0,\n",
       " 2,\n",
       " 4,\n",
       " 6,\n",
       " 8,\n",
       " 0,\n",
       " 2,\n",
       " 4,\n",
       " 6,\n",
       " 8,\n",
       " 0,\n",
       " 2,\n",
       " 4,\n",
       " 6,\n",
       " 8,\n",
       " 0,\n",
       " 2,\n",
       " 4,\n",
       " 6,\n",
       " 8,\n",
       " 0,\n",
       " 2,\n",
       " 4,\n",
       " 6,\n",
       " 8,\n",
       " 0,\n",
       " 2,\n",
       " 4,\n",
       " 6,\n",
       " 8,\n",
       " 0,\n",
       " 2,\n",
       " 4,\n",
       " 6,\n",
       " 8]"
      ]
     },
     "execution_count": 26,
     "metadata": {},
     "output_type": "execute_result"
    }
   ],
   "source": [
    "[ i % 10 for i in range(100) if i % 2 == 0 ]"
   ]
  },
  {
   "cell_type": "markdown",
   "metadata": {},
   "source": [
    "### Set Comprehension"
   ]
  },
  {
   "cell_type": "code",
   "execution_count": 25,
   "metadata": {
    "collapsed": false
   },
   "outputs": [
    {
     "data": {
      "text/plain": [
       "{0, 2, 4, 6, 8}"
      ]
     },
     "execution_count": 25,
     "metadata": {},
     "output_type": "execute_result"
    }
   ],
   "source": [
    "{ i % 10 for i in range(100) if i % 2 == 0 }"
   ]
  },
  {
   "cell_type": "markdown",
   "metadata": {},
   "source": [
    "### Dict Comprehension"
   ]
  },
  {
   "cell_type": "code",
   "execution_count": null,
   "metadata": {
    "collapsed": true
   },
   "outputs": [],
   "source": []
  },
  {
   "cell_type": "code",
   "execution_count": 29,
   "metadata": {
    "collapsed": false
   },
   "outputs": [
    {
     "name": "stdout",
     "output_type": "stream",
     "text": [
      "*** Introductory Examples for the NLTK Book ***\n",
      "Loading text1, ..., text9 and sent1, ..., sent9\n",
      "Type the name of the text or sentence to view it.\n",
      "Type: 'texts()' or 'sents()' to list the materials.\n",
      "text1: Moby Dick by Herman Melville 1851\n",
      "text2: Sense and Sensibility by Jane Austen 1811\n",
      "text3: The Book of Genesis\n",
      "text4: Inaugural Address Corpus\n",
      "text5: Chat Corpus\n",
      "text6: Monty Python and the Holy Grail\n",
      "text7: Wall Street Journal\n",
      "text8: Personals Corpus\n",
      "text9: The Man Who Was Thursday by G . K . Chesterton 1908\n"
     ]
    }
   ],
   "source": [
    "from nltk.book import FreqDist"
   ]
  },
  {
   "cell_type": "code",
   "execution_count": 31,
   "metadata": {
    "collapsed": false
   },
   "outputs": [],
   "source": [
    "fdist1 = FreqDist('''A desperate America seeking distraction from an ugly political climate may have found a new sweetheart. He is Kenneth Bone, an undecided voter in a bright red sweater.\n",
    "\n",
    "Whether that affection will last once he makes up his mind remains to be seen. In an interview with The New York Times, he revealed how he is now leaning.\n",
    "\n",
    "Mr. Bone, 34, an operator at a coal plant in Illinois, was one of the undecided voters selected to ask a question at the town hall debate broadcast live on Sunday night.\n",
    "\n",
    "He offered a contrast to the presidential candidates’ combative tone when he asked a straightforward policy query near the end of the 90-minute live broadcast.\n",
    "\n",
    "“What steps will your energy policy take to meet our energy needs while at the same time remaining environmentally friendly and minimizing job layoffs?” he asked.\n",
    "\n",
    "Judging by comments on social media, many of those who tuned in found Mr. Bone to be the most diverting thing about the debate. They were delighted with his sweater and images of him snapping pictures on a disposable camera shortly after the event.\n",
    "\n",
    "Journalists and commentators flooded Twitter with memes, depicting Mr. Bone crossing the Delaware with George Washington, as a rapper or as the basis for the perfect Halloween costume. A YouTube song celebrated him (“Oh Kenneth Bone, you make us all feel less alone in this bizarro phantom zone in the darkest of timelines”), while others cautioned that he might wear out his welcome, like an election edition of Chewbacca Mom.\n",
    "\n",
    "In a phone interview on Monday morning, Mr. Bone said that he had been leaning toward voting for Donald J. Trump, but that Hillary Clinton “really impressed me with her composure and some of her answers last night.”''')"
   ]
  },
  {
   "cell_type": "code",
   "execution_count": 32,
   "metadata": {
    "collapsed": false
   },
   "outputs": [
    {
     "data": {
      "text/plain": [
       "dict_keys(['k', '4', 'g', 'h', 'w', '?', 'A', 'm', 'W', 'f', 'j', 'e', '(', 'I', 'l', 'Y', 'N', '0', ',', 'c', 'v', 'b', '\\n', 'q', 'r', ')', '“', 'T', 'a', 'd', '’', '9', 'G', 'u', 'o', 'C', '-', 'y', 'z', 'M', 'D', '.', '3', 'n', 's', 'i', 'p', 't', '”', 'H', 'J', 'B', 'S', ' ', 'K', 'O'])"
      ]
     },
     "execution_count": 32,
     "metadata": {},
     "output_type": "execute_result"
    }
   ],
   "source": [
    "fdist1.keys()"
   ]
  },
  {
   "cell_type": "code",
   "execution_count": 36,
   "metadata": {
    "collapsed": false
   },
   "outputs": [
    {
     "data": {
      "text/plain": [
       "('k',\n",
       " '4',\n",
       " 'g',\n",
       " 'h',\n",
       " 'w',\n",
       " '?',\n",
       " 'A',\n",
       " 'm',\n",
       " 'W',\n",
       " 'f',\n",
       " 'j',\n",
       " 'e',\n",
       " '(',\n",
       " 'I',\n",
       " 'l',\n",
       " 'Y',\n",
       " 'N',\n",
       " '0',\n",
       " ',',\n",
       " 'c',\n",
       " 'v',\n",
       " 'b',\n",
       " '\\n',\n",
       " 'q',\n",
       " 'r',\n",
       " ')',\n",
       " '“',\n",
       " 'T',\n",
       " 'a',\n",
       " 'd',\n",
       " '’',\n",
       " '9',\n",
       " 'G',\n",
       " 'u',\n",
       " 'o',\n",
       " 'C',\n",
       " '-',\n",
       " 'y',\n",
       " 'z',\n",
       " 'M',\n",
       " 'D',\n",
       " '.',\n",
       " '3',\n",
       " 'n',\n",
       " 's',\n",
       " 'i',\n",
       " 'p',\n",
       " 't',\n",
       " '”',\n",
       " 'H')"
      ]
     },
     "execution_count": 36,
     "metadata": {},
     "output_type": "execute_result"
    }
   ],
   "source": [
    "tuple(fdist1.keys())[:50]"
   ]
  },
  {
   "cell_type": "code",
   "execution_count": 37,
   "metadata": {
    "collapsed": true
   },
   "outputs": [],
   "source": [
    "FreqDist?"
   ]
  },
  {
   "cell_type": "code",
   "execution_count": 38,
   "metadata": {
    "collapsed": true
   },
   "outputs": [],
   "source": [
    "sent4 = [\"Fellow\", \"-\", \"Citizens\", \"of\", \"the\", \"Senate\", \"and\", \"of\", \"the\", \"House\", \"of\", \"Representatives\", \":\"]"
   ]
  },
  {
   "cell_type": "code",
   "execution_count": 39,
   "metadata": {
    "collapsed": false
   },
   "outputs": [
    {
     "data": {
      "text/plain": [
       "'Citizens'"
      ]
     },
     "execution_count": 39,
     "metadata": {},
     "output_type": "execute_result"
    }
   ],
   "source": [
    "sent4[2]"
   ]
  },
  {
   "cell_type": "code",
   "execution_count": 40,
   "metadata": {
    "collapsed": true
   },
   "outputs": [],
   "source": [
    "def revString(text):\n",
    "    return text[::-1]"
   ]
  },
  {
   "cell_type": "code",
   "execution_count": 42,
   "metadata": {
    "collapsed": false
   },
   "outputs": [
    {
     "data": {
      "text/plain": [
       "'snezitiC'"
      ]
     },
     "execution_count": 42,
     "metadata": {},
     "output_type": "execute_result"
    }
   ],
   "source": [
    "revString(sent4[2])"
   ]
  },
  {
   "cell_type": "code",
   "execution_count": 43,
   "metadata": {
    "collapsed": true
   },
   "outputs": [],
   "source": [
    "def revStringList(mylist):\n",
    "    for text in mylist:\n",
    "        print(text[::-1])"
   ]
  },
  {
   "cell_type": "code",
   "execution_count": 44,
   "metadata": {
    "collapsed": false
   },
   "outputs": [
    {
     "name": "stdout",
     "output_type": "stream",
     "text": [
      "olleh\n",
      "dlrow\n",
      "nohtyp\n",
      "ognajd\n"
     ]
    }
   ],
   "source": [
    "revStringList([\"hello\", \"world\", \"python\", \"django\"])"
   ]
  },
  {
   "cell_type": "markdown",
   "metadata": {},
   "source": [
    "## 슬라이싱 (Slicing) 문법\n",
    "\n",
    " * mylist[시작인덱스:끝인덱스:인덱스증가량] : 시작인덱스 이상, 끝인덱스 미만\n",
    " * mylist[시작인덱스:] : 시작인덱스부터 끝까지\n",
    " * mylist[시작인덱스:끝인덱스] : 시작인덱스 이상, 끝인덱스 미만\n",
    " * mylist[:끝인덱스] : 처음부터 끝인덱스 미만까지\n",
    " * mylist[::인덱스증가량] : 처음부터 끝까지, 증가량만큼\n",
    "      * 인덱스 증가량이 음수일 때는 : 시작을 끝에서부터 시작"
   ]
  },
  {
   "cell_type": "markdown",
   "metadata": {},
   "source": [
    "### 문제3"
   ]
  },
  {
   "cell_type": "code",
   "execution_count": 50,
   "metadata": {
    "collapsed": true
   },
   "outputs": [],
   "source": [
    "def wordlength():\n",
    "    # raw_input(\"Enter some text:\") # python2\n",
    "    line = input(\"Enter some text:\") # python3\n",
    "    result = []\n",
    "    for word in line.split():\n",
    "        result.append((word, len(word)))\n",
    "    return result"
   ]
  },
  {
   "cell_type": "code",
   "execution_count": 51,
   "metadata": {
    "collapsed": false
   },
   "outputs": [
    {
     "name": "stdout",
     "output_type": "stream",
     "text": [
      "Enter some text:time flies like an arrow\n"
     ]
    },
    {
     "data": {
      "text/plain": [
       "[('time', 4), ('flies', 5), ('like', 4), ('an', 2), ('arrow', 5)]"
      ]
     },
     "execution_count": 51,
     "metadata": {},
     "output_type": "execute_result"
    }
   ],
   "source": [
    "wordlength()"
   ]
  },
  {
   "cell_type": "code",
   "execution_count": 52,
   "metadata": {
    "collapsed": true
   },
   "outputs": [],
   "source": [
    "def wordlength2():\n",
    "    line = input(\"Enter some text :\")\n",
    "    result = [(word, len(word)) for word in line.split()]\n",
    "    return result"
   ]
  },
  {
   "cell_type": "code",
   "execution_count": 53,
   "metadata": {
    "collapsed": false
   },
   "outputs": [
    {
     "name": "stdout",
     "output_type": "stream",
     "text": [
      "Enter some text :time flies like an arrow\n"
     ]
    },
    {
     "data": {
      "text/plain": [
       "[('time', 4), ('flies', 5), ('like', 4), ('an', 2), ('arrow', 5)]"
      ]
     },
     "execution_count": 53,
     "metadata": {},
     "output_type": "execute_result"
    }
   ],
   "source": [
    "wordlength2()"
   ]
  },
  {
   "cell_type": "code",
   "execution_count": null,
   "metadata": {
    "collapsed": true
   },
   "outputs": [],
   "source": []
  }
 ],
 "metadata": {
  "kernelspec": {
   "display_name": "Python 3",
   "language": "python",
   "name": "python3"
  },
  "language_info": {
   "codemirror_mode": {
    "name": "ipython",
    "version": 3
   },
   "file_extension": ".py",
   "mimetype": "text/x-python",
   "name": "python",
   "nbconvert_exporter": "python",
   "pygments_lexer": "ipython3",
   "version": "3.5.2"
  }
 },
 "nbformat": 4,
 "nbformat_minor": 1
}
